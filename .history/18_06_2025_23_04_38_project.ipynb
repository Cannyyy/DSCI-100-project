{
 "cells": [
  {
   "cell_type": "markdown",
   "id": "7cfdc3f0-6444-4b87-b353-aa01ef347f2d",
   "metadata": {},
   "source": [
    "# Predicting Newsletter Subscription from Demographics and Play Behavior\n",
    "\n",
    "## Introduction\n",
    "\n",
    "**Background**: The UBC Minecraft server project collects player data to help manage server resources and improve player engagement strategies. One key goal is to understand what kinds of players are likely to subscribe to the server newsletter, which serves as a way to share updates and strengthen the community.\n",
    "\n",
    "**Question**: This project investigates the following question:\n",
    "\n",
    "*Can we predict whether a player will subscribe to the newsletter based on their age and total number of hours played?*\n",
    "\n",
    "To answer this question, we will use data from the following source:\n",
    "\n",
    "- `players.csv`, which contains each player's demographic information (including age), total number of hours played (`played_hours`), and subscription status (`subscribe`).\n",
    "\n",
    "This project focuses only on the `players.csv` dataset. By using demographic information (`Age`) and behavioral information (`played_hours`), we aim to determine whether these variables are useful predictors of newsletter subscription.\n",
    "\n",
    "We chose this approach because:\n",
    "- Age may relate to interest in community updates.\n",
    "- Players who spend more time in-game may be more engaged and thus more likely to subscribe."
   ]
  },
  {
   "cell_type": "markdown",
   "id": "c5b5d81d-46b9-4808-a9dd-2ff43c25a6ed",
   "metadata": {},
   "source": [
    "**Data Description**\n",
    "\n",
    "This project uses the dataset `players.csv`, which contains demographic, behavioral, and subscription information for 196 unique players.\n",
    "\n",
    "We use two variables—`Age` and `played_hours`—to investigate whether they are useful predictors of newsletter subscription status.\n",
    "\n",
    "**Dataset Overview**\n",
    "\n",
    "#### players.csv\n",
    "\n",
    "| Variable Name | Type    | Description                                  |\n",
    "|---------------|---------|----------------------------------------------|\n",
    "| hashedEmail   | String  | Unique identifier for each player            |\n",
    "| age           | Numeric | Player's reported age                        |\n",
    "| gender        | String  | Player's reported gender                     |\n",
    "| subscribe     | Boolean | Whether the player subscribed (TRUE/FALSE)  |\n",
    "| experience    | String  | Self-reported experience level               |\n",
    "| played_hours  | Numeric | Total number of hours the player has played |\n",
    "| name          | String  | Player's chosen username                     |\n"
   ]
  },
  {
   "cell_type": "markdown",
   "id": "30d1529e-7efd-44ef-9eca-c05703bc4437",
   "metadata": {},
   "source": [
    "## Methods & Results\n",
    "\n",
    "To explore whether a player's age and total played time can help predict their newsletter subscription status, we followed several steps:\n",
    "\n",
    "### Data Processing\n",
    "\n",
    "- We used the players.csv dataset, which contains each player's age, total played hours, and subscription status.\n",
    "- We kept only the necessary columns: Age, played_hours, and subscribe.\n",
    "\n",
    "### Splitting the Data\n",
    "\n",
    "- We split the dataset into a training set (75%) and a testing set (25%) using random sampling.\n",
    "- The training set was used to teach the model how age and played hours might relate to newsletter subscription.\n",
    "- The testing set was used to evaluate how well the model performs on new, unseen data.\n",
    "\n",
    "### Model\n",
    "\n",
    "- We trained a K-nearest neighbors (KNN) classification model using Age and played_hours as the predictor variables, and subscribe as the response.\n",
    "- The model identifies patterns in training data to classify new players as likely subscribers or not.\n",
    "\n",
    "### Evaluation\n",
    "\n",
    "- We evaluated the model using accuracy, which measures the proportion of correct predictions on the test set.\n",
    "- A higher accuracy means that Age and played_hours are useful predictors of subscription status.\n",
    "\n",
    "This analysis helps us understand whether player demographics (age) and behavior (play time) are useful indicators of newsletter interest."
   ]
  },
  {
   "cell_type": "code",
   "execution_count": null,
   "id": "75733c01-101a-45aa-bb14-b513e00916d2",
   "metadata": {},
   "outputs": [],
   "source": [
    "library(tidyverse)\n",
    "library(tidymodels)\n",
    "\n",
    "# Data Processing\n",
    "players <- read_csv(\"players.csv\") |>\n",
    "    select(Age, played_hours, subscribe) |>\n",
    "    filter(played_hours <= 20, Age <= 35) |>\n",
    "    mutate(subscribe = as.factor(subscribe))\n",
    "\n",
    "# Splitting the Data\n",
    "set.seed(123)\n",
    "split <- initial_split(players, prop = 0.75)\n",
    "train_data <- training(split)\n",
    "test_data <- testing(split)\n",
    "\n",
    "# Model\n",
    "knn_recipe <- recipe(subscribe ~ Age + played_hours, data = train_data) |>\n",
    "    step_scale(all_predictors()) |>\n",
    "    step_center(all_predictors())\n",
    "\n",
    "knn_spec <- nearest_neighbor(mode = \"classification\", neighbors = 5) |>\n",
    "    set_engine(\"kknn\")\n",
    "\n",
    "knn_workflow <- workflow() |>\n",
    "    add_recipe(knn_recipe) |>\n",
    "    add_model(knn_spec)\n",
    "\n",
    "knn_fit <- fit(knn_workflow, data = train_data)\n",
    "\n",
    "# Evaluation\n",
    "my_predict <- knn_fit |>\n",
    "  predict(test_data) |>\n",
    "  bind_cols(test_data)\n",
    "\n",
    "accuracy(my_predict, truth = subscribe, estimate = .pred_class)"
   ]
  },
  {
   "cell_type": "markdown",
   "id": "a7b4092b-6c87-49a6-aae2-48c2f64f4794",
   "metadata": {},
   "source": [
    "### Exploratory Visualization\n",
    "\n",
    "We used histograms to compare `played_hours` and `Age` distributions between subscribed and non-subscribed players."
   ]
  },
  {
   "cell_type": "code",
   "execution_count": null,
   "id": "333df04f-ae69-4fa5-801f-4da12dcf0131",
   "metadata": {},
   "outputs": [],
   "source": [
    "ggplot(players, aes(x = played_hours, fill = subscribe)) +\n",
    "  geom_histogram(position = \"dodge\", bins = 20, color = \"white\") +\n",
    "  labs(x = \"Played Hours\", \n",
    "       y = \"Count\",\n",
    "       title = \"Played Hours by Subscription Status\")\n",
    "\n",
    "ggplot(players, aes(x = Age, fill = subscribe)) +\n",
    "  geom_histogram(position = \"dodge\", bins = 15, color = \"white\") +\n",
    "  labs(x = \"Age\", \n",
    "       y = \"Count\",\n",
    "       title = \"Age by Subscription Status\")"
   ]
  },
  {
   "cell_type": "markdown",
   "id": "ae1fd6d1-d528-456f-b761-535090b16095",
   "metadata": {},
   "source": [
    "These histograms show how player behavior and demographics relate to newsletter subscription.\n",
    "\n",
    "- **Played Hours**: Players who subscribed tend to play more. Subscribed players are more concentrated in higher play-hour ranges, suggesting a positive relationship.\n",
    "- **Age**: The age distribution is fairly balanced between subscribed and unsubscribed players, indicating that age alone may not be a strong predictor."
   ]
  },
  {
   "cell_type": "markdown",
   "id": "b6c23070-d42f-4d62-a124-d3ee47eb3664",
   "metadata": {},
   "source": [
    "## Discussion\n",
    "\n",
    "We identified and removed extreme values in both variables. Most players had less than 20 total played hours and were under 35 years old. These observations guided us to filter the data to focus on the core player group. After training a K-nearest neighbors (KNN) classification model using `Age` and `played_hours` as predictor variables, the model achieved an accuracy of approximately **68.2%** on the testing set. \n",
    "\n",
    "The improved accuracy suggests that player demographics and behavioral time investment can moderately predict newsletter subscription. While not highly accurate, the model performs better than random guessing and indicates some signal in the selected variables.\n",
    "\n",
    "However, the moderate performance also implies that other unobserved factors may play a more important role in predicting subscription. For example, social interactions, in-game achievements, or motivations for joining the community could be more relevant but were not available in this dataset. To further improve the model, in the future we could include additional variables or try alternative models, and so on. This analysis demonstrates how basic demographic and behavioral features can offer some predictive value, while also highlighting the limits of such information when used in isolation."
   ]
  },
  {
   "cell_type": "markdown",
   "id": "46aabbee-77a6-4038-9835-08712f04cd9c",
   "metadata": {},
   "source": [
    "## Conclusion\n",
    "\n",
    "This project aimed to predict whether a player would subscribe to the UBC Minecraft server newsletter based on two variables: `Age` and `played_hours`. After cleaning the data and building a K-nearest neighbors (KNN) classification model, we achieved an accuracy of approximately **68%**.\n",
    "\n",
    "This result suggests that while `Age` and `played_hours` carry **some predictive power**, they are **not strong enough alone** to make highly accurate predictions. However, they offer a useful starting point for understanding player behavior and engagement. Future work incorporating more features or alternative models may yield more robust insights into player engagement and help guide targeted communication strategies."
   ]
  },
  {
   "cell_type": "code",
   "execution_count": null,
   "id": "f2e863a7-be9a-42c2-aa96-988485dd75b3",
   "metadata": {},
   "outputs": [],
   "source": []
  },
  {
   "cell_type": "code",
   "execution_count": null,
   "id": "78c33ff7-10a2-46ee-ae66-666f57dd93a6",
   "metadata": {},
   "outputs": [],
   "source": []
  }
 ],
 "metadata": {
  "kernelspec": {
   "display_name": "R",
   "language": "R",
   "name": "ir"
  },
  "language_info": {
   "codemirror_mode": "r",
   "file_extension": ".r",
   "mimetype": "text/x-r-source",
   "name": "R",
   "pygments_lexer": "r",
   "version": "4.3.3"
  }
 },
 "nbformat": 4,
 "nbformat_minor": 5
}
